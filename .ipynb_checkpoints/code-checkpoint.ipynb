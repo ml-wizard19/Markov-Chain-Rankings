{
 "cells": [
  {
   "cell_type": "code",
   "execution_count": 1,
   "metadata": {},
   "outputs": [],
   "source": [
    "# Import necessary libraries\n",
    "import numpy as np\n",
    "from time import sleep\n",
    "import pandas as pd\n",
    "from scipy.linalg import eig \n",
    "import re\n",
    "import json\n",
    "import os\n",
    "import matplotlib \n",
    "%load_ext autotime\n",
    "%matplotlib inline"
   ]
  },
  {
   "cell_type": "code",
   "execution_count": null,
   "metadata": {},
   "outputs": [],
   "source": [
    "\"\"\" The workflow is as follows:\n",
    "-- Scrape regular season results, playoff results, and regular season standings from basketball reference (1977 - 2017)\n",
    "-- Form a voting matrix using a specified alpha level using regular season results for each year\n",
    "-- Get the team ratings for each season (and subsequent rankings) by solving the matrix for its stationary distribution (Markov Method)\n",
    "-- Use both the Markov Rankings and regular season standings to make predictions for the playoff series for each season\n",
    "-- Compare the total accuracies of the different ranking methods\n",
    "\"\"\""
   ]
  },
  {
   "cell_type": "code",
   "execution_count": 6,
   "metadata": {},
   "outputs": [
    {
     "name": "stdout",
     "output_type": "stream",
     "text": [
      "time: 14.9 ms\n"
     ]
    }
   ],
   "source": [
    "# Function to load the data already scraped from the web\n",
    "def load_all_data():\n",
    "    regular_season_data = {}\n",
    "    path = \"/Users/JasonKatz/Desktop/NBA_Data/Regular_Season/\"\n",
    "    for file in os.listdir(path):\n",
    "        regular_season_data[file[0:4]] = pd.read_csv(path + file)\n",
    "        \n",
    "    playoff_data = {}\n",
    "    path = \"/Users/JasonKatz/Desktop/NBA_Data/Playoffs/\"\n",
    "    for file in os.listdir(path):\n",
    "        playoff_data[file[0:4]] = pd.read_csv(path + file)\n",
    "        \n",
    "    with open(\"/Users/JasonKatz/Desktop/NBA_Data/standings.json\") as json_data:\n",
    "        standings_data = json.load(json_data)\n",
    "        \n",
    "    return regular_season_data, playoff_data, standings_data"
   ]
  },
  {
   "cell_type": "code",
   "execution_count": 7,
   "metadata": {},
   "outputs": [
    {
     "name": "stdout",
     "output_type": "stream",
     "text": [
      "time: 5.37 ms\n"
     ]
    }
   ],
   "source": [
    "# Function to get the winning team and losing team names from a row containing the game information\n",
    "def game_result(game):\n",
    "    if game['PTS'] > game['PTS.1']:\n",
    "        winning_team = game['Visitor/Neutral']\n",
    "        losing_team = game['Home/Neutral']\n",
    "    else:\n",
    "        winning_team = game['Home/Neutral']\n",
    "        losing_team = game['Visitor/Neutral']\n",
    "    return winning_team, losing_team"
   ]
  },
  {
   "cell_type": "code",
   "execution_count": 8,
   "metadata": {},
   "outputs": [
    {
     "name": "stdout",
     "output_type": "stream",
     "text": [
      "time: 23.7 ms\n"
     ]
    }
   ],
   "source": [
    "# Function to scrape regular season game information from basketball reference\n",
    "def get_regular_season_results(year_start, year_end):\n",
    "    all_data = {}\n",
    "    months = ['october', 'november', 'december', 'january', 'february', 'march', 'april']\n",
    "    for year in range(year_start, year_end+1):\n",
    "        table = pd.read_html('https://www.basketball-reference.com/leagues/NBA_' + str(year) + '_games-april.html')[0]\n",
    "        teams = list(np.sort(list(set(table['Visitor/Neutral']))))[0:30]\n",
    "        voting_matrix = pd.DataFrame(0, columns=teams, index=teams)\n",
    "        data = pd.DataFrame()\n",
    "        for month in months:\n",
    "            try:\n",
    "                table = pd.read_html('https://www.basketball-reference.com/leagues/NBA_' + str(year) + '_games-' + month + '.html')[0]\n",
    "                if year == 1981:\n",
    "                    if month == 'march':\n",
    "                        table = table.iloc[0:table[table['Date'] == 'Playoffs'].index[0],]\n",
    "                elif month == 'april':\n",
    "                    table = table.iloc[0:table[table['Date'] == 'Playoffs'].index[0],]\n",
    "                data = data.append(table)\n",
    "            except:\n",
    "                pass\n",
    "        all_data[year] = data\n",
    "    return all_data"
   ]
  },
  {
   "cell_type": "code",
   "execution_count": 9,
   "metadata": {},
   "outputs": [
    {
     "name": "stdout",
     "output_type": "stream",
     "text": [
      "time: 32.5 ms\n"
     ]
    }
   ],
   "source": [
    "# Function to get team rankings from regular season results\n",
    "def get_markov_rankings(data, alpha=0):\n",
    "    \n",
    "    # Create the voting matrix\n",
    "    teams = list(np.sort(list(set(data['Home/Neutral']))))\n",
    "    voting_matrix = pd.DataFrame(0, columns=teams, index=teams)\n",
    "    for idx,row in data.iterrows():\n",
    "        winning_team, losing_team = game_result(row)\n",
    "        if alpha == 0:\n",
    "            voting_matrix.loc[winning_team, losing_team] += alpha\n",
    "            voting_matrix.loc[losing_team, winning_team] += 1\n",
    "        else:\n",
    "            voting_matrix.loc[winning_team, losing_team] += 1\n",
    "            voting_matrix.loc[losing_team, winning_team] += alpha\n",
    "    voting_matrix = voting_matrix.div(voting_matrix.sum(axis=1), axis=0)\n",
    "    voting_matrix = np.matrix(voting_matrix)\n",
    "    \n",
    "    # Find the stationary distribution of the voting matrix\n",
    "    S, U = eig(voting_matrix.T)\n",
    "    stationary = np.array(U[:, np.where(np.abs(S - 1.) < 1e-8)[0][0]].flat)\n",
    "    stationary = stationary / np.sum(stationary)\n",
    "    ratings_order = np.argsort(stationary)\n",
    "    rankings = list(reversed([teams[rat] for rat in ratings_order]))\n",
    "    return rankings"
   ]
  },
  {
   "cell_type": "code",
   "execution_count": 10,
   "metadata": {},
   "outputs": [
    {
     "name": "stdout",
     "output_type": "stream",
     "text": [
      "time: 2.86 ms\n"
     ]
    }
   ],
   "source": [
    "# Function to parse a team name from a string containing a team\n",
    "def get_team_from_regex(teams, team_string):\n",
    "    for team in teams:\n",
    "        if re.search(team, team_string, re.IGNORECASE):\n",
    "            return team"
   ]
  },
  {
   "cell_type": "code",
   "execution_count": 11,
   "metadata": {},
   "outputs": [
    {
     "name": "stdout",
     "output_type": "stream",
     "text": [
      "time: 18.9 ms\n"
     ]
    }
   ],
   "source": [
    "# Function to scrape playoff results from basketball reference\n",
    "def get_playoff_results(year_start, year_end):\n",
    "    all_data = {}\n",
    "    for year in range(year_start, year_end+1):\n",
    "        tables = pd.read_html('https://www.basketball-reference.com/playoffs/NBA_' + str(year) + '.html')\n",
    "        raw_results = tables[0]\n",
    "        teams = tables[-1]['Team'][:-1]\n",
    "        playoff_results = pd.DataFrame()\n",
    "        for result in raw_results[1]:\n",
    "            result = str(result)\n",
    "            regex_over = re.search(\"over\", result)\n",
    "            if regex_over:\n",
    "                winner_string = result[0:regex_over.span()[0]]\n",
    "                loser_string = result[regex_over.span()[1]:]\n",
    "                winner = get_team_from_regex(teams, winner_string)\n",
    "                loser = get_team_from_regex(teams, loser_string)\n",
    "                playoff_results = playoff_results.append(pd.Series([winner,loser]), ignore_index=True)\n",
    "        playoff_results.columns = ['Winner', 'Loser']\n",
    "        all_data[year] = playoff_results\n",
    "    return all_data"
   ]
  },
  {
   "cell_type": "code",
   "execution_count": 12,
   "metadata": {},
   "outputs": [
    {
     "name": "stdout",
     "output_type": "stream",
     "text": [
      "time: 26.2 ms\n"
     ]
    }
   ],
   "source": [
    "# Function to get the final regular season standings by scraping basketball reference\n",
    "def get_standings(year_start, year_end):\n",
    "    all_data = {}\n",
    "    for year in range(year_start, year_end+1):\n",
    "        table = pd.read_html('https://www.basketball-reference.com/leagues/NBA_' + str(year) + '_games-april.html')[0]\n",
    "        teams = list(np.sort(list(set(table['Visitor/Neutral']))))\n",
    "        tables = pd.read_html('https://www.basketball-reference.com/leagues/NBA_' + str(year) + '_standings.html')\n",
    "        east = tables[0]\n",
    "        west = tables[1]\n",
    "        cols = ['Team']\n",
    "        cols.extend(list(east.columns[1:]))\n",
    "        east.columns = cols\n",
    "        west.columns = cols\n",
    "        nba = east.append(west)\n",
    "        nba = nba.sort_values('W', ascending=False)\n",
    "        standings = [get_team_from_regex(teams, team) for team in nba['Team']]\n",
    "        all_data[year] = standings\n",
    "    return all_data"
   ]
  },
  {
   "cell_type": "code",
   "execution_count": 13,
   "metadata": {},
   "outputs": [
    {
     "name": "stdout",
     "output_type": "stream",
     "text": [
      "time: 3.8 ms\n"
     ]
    }
   ],
   "source": [
    "# Function to get the higher ranked team from a list of ordered teams\n",
    "def get_higher_ranked_team(teams, team_1, team_2):\n",
    "    for team in teams:\n",
    "        if team == team_1:\n",
    "            return team\n",
    "        elif team == team_2:\n",
    "            return team"
   ]
  },
  {
   "cell_type": "code",
   "execution_count": 14,
   "metadata": {},
   "outputs": [
    {
     "name": "stdout",
     "output_type": "stream",
     "text": [
      "time: 5.84 ms\n"
     ]
    }
   ],
   "source": [
    "# Function to get the prediction accuracy given a set of rankings and playoff results\n",
    "def get_prediction_accuracy(playoff_results, rankings):\n",
    "    correct_predictions = 0\n",
    "    for idx,row in playoff_results.iterrows():\n",
    "        winner = row['Winner']\n",
    "        loser = row['Loser']\n",
    "        if winner == get_higher_ranked_team(rankings, winner, loser):\n",
    "            correct_predictions += 1\n",
    "    accuracy = round(correct_predictions/len(playoff_results)*100,2)\n",
    "    return accuracy"
   ]
  },
  {
   "cell_type": "code",
   "execution_count": 15,
   "metadata": {},
   "outputs": [
    {
     "name": "stdout",
     "output_type": "stream",
     "text": [
      "time: 14 ms\n"
     ]
    }
   ],
   "source": [
    "# Function to get all the prediction results from markov rankings and regular season rankings\n",
    "def get_ranking_predictions(regular_season_data, playoff_data, standings_data, year_start, year_end, alpha=0):\n",
    "    predictions = pd.DataFrame()\n",
    "    for year in range(year_start,year_end+1):\n",
    "        year = str(year)\n",
    "        standings = standings_data[year]\n",
    "        playoff_results = playoff_data[year]\n",
    "        markov_rankings = get_markov_rankings(regular_season_data[year], alpha=alpha)\n",
    "        markov_predictions = get_prediction_accuracy(playoff_results, markov_rankings)\n",
    "        overall_seed_predictions = get_prediction_accuracy(playoff_results, standings)\n",
    "        predictions = predictions.append(pd.Series([markov_predictions,overall_seed_predictions], name=year))\n",
    "    predictions = predictions.append(pd.Series([np.round(np.mean(predictions[0]),2),\n",
    "                                            np.round(np.mean(predictions[1]))], name=\"Overall\"))\n",
    "    predictions.columns = ['Markov', 'Overall Seed']\n",
    "    return predictions"
   ]
  },
  {
   "cell_type": "code",
   "execution_count": 16,
   "metadata": {},
   "outputs": [
    {
     "name": "stdout",
     "output_type": "stream",
     "text": [
      "time: 545 ms\n"
     ]
    }
   ],
   "source": [
    "# Load all data\n",
    "regular_season_data, playoff_data, standings_data = load_all_data()"
   ]
  },
  {
   "cell_type": "code",
   "execution_count": 183,
   "metadata": {},
   "outputs": [
    {
     "name": "stdout",
     "output_type": "stream",
     "text": [
      "time: 43.5 s\n"
     ]
    }
   ],
   "source": [
    "# Get the accuracy results from testing different alpha\n",
    "accuracy_results = pd.DataFrame()\n",
    "alphas = [1.01, 1.1, 1.25, 1.5, 2.5, 5.0, 10.0, 25.0, 50.0, 100.0, 250.0, 0.0]\n",
    "for alpha in alphas:\n",
    "    predictions = get_ranking_predictions(regular_season_data, playoff_data, standings_data, 1977, 2017, alpha=alpha)\n",
    "    accuracy_results = accuracy_results.append(predictions.iloc[-1,])\n",
    "accuracy_results['Alpha'] = alphas"
   ]
  },
  {
   "cell_type": "code",
   "execution_count": 93,
   "metadata": {},
   "outputs": [
    {
     "data": {
      "text/html": [
       "<div>\n",
       "<table border=\"1\" class=\"dataframe\">\n",
       "  <thead>\n",
       "    <tr style=\"text-align: right;\">\n",
       "      <th></th>\n",
       "      <th>0</th>\n",
       "      <th>1</th>\n",
       "      <th>2</th>\n",
       "      <th>3</th>\n",
       "      <th>4</th>\n",
       "      <th>5</th>\n",
       "      <th>6</th>\n",
       "      <th>7</th>\n",
       "      <th>8</th>\n",
       "      <th>9</th>\n",
       "      <th>10</th>\n",
       "      <th>11</th>\n",
       "    </tr>\n",
       "  </thead>\n",
       "  <tbody>\n",
       "    <tr>\n",
       "      <th>Alpha</th>\n",
       "      <td>0.00</td>\n",
       "      <td>1.01</td>\n",
       "      <td>1.1</td>\n",
       "      <td>1.25</td>\n",
       "      <td>1.50</td>\n",
       "      <td>2.5</td>\n",
       "      <td>5.00</td>\n",
       "      <td>10.00</td>\n",
       "      <td>25.00</td>\n",
       "      <td>50.00</td>\n",
       "      <td>100.00</td>\n",
       "      <td>250.00</td>\n",
       "    </tr>\n",
       "    <tr>\n",
       "      <th>Markov</th>\n",
       "      <td>70.95</td>\n",
       "      <td>73.24</td>\n",
       "      <td>73.3</td>\n",
       "      <td>73.79</td>\n",
       "      <td>73.69</td>\n",
       "      <td>73.3</td>\n",
       "      <td>72.58</td>\n",
       "      <td>71.54</td>\n",
       "      <td>71.44</td>\n",
       "      <td>71.28</td>\n",
       "      <td>71.12</td>\n",
       "      <td>70.95</td>\n",
       "    </tr>\n",
       "    <tr>\n",
       "      <th>Seed</th>\n",
       "      <td>72.00</td>\n",
       "      <td>72.00</td>\n",
       "      <td>72.0</td>\n",
       "      <td>72.00</td>\n",
       "      <td>72.00</td>\n",
       "      <td>72.0</td>\n",
       "      <td>72.00</td>\n",
       "      <td>72.00</td>\n",
       "      <td>72.00</td>\n",
       "      <td>72.00</td>\n",
       "      <td>72.00</td>\n",
       "      <td>72.00</td>\n",
       "    </tr>\n",
       "  </tbody>\n",
       "</table>\n",
       "</div>"
      ],
      "text/plain": [
       "           0      1     2      3      4     5      6      7      8      9   \\\n",
       "Alpha    0.00   1.01   1.1   1.25   1.50   2.5   5.00  10.00  25.00  50.00   \n",
       "Markov  70.95  73.24  73.3  73.79  73.69  73.3  72.58  71.54  71.44  71.28   \n",
       "Seed    72.00  72.00  72.0  72.00  72.00  72.0  72.00  72.00  72.00  72.00   \n",
       "\n",
       "            10      11  \n",
       "Alpha   100.00  250.00  \n",
       "Markov   71.12   70.95  \n",
       "Seed     72.00   72.00  "
      ]
     },
     "execution_count": 93,
     "metadata": {},
     "output_type": "execute_result"
    },
    {
     "name": "stdout",
     "output_type": "stream",
     "text": [
      "time: 46.5 ms\n"
     ]
    }
   ],
   "source": [
    "accuracy_results.T"
   ]
  },
  {
   "cell_type": "code",
   "execution_count": 264,
   "metadata": {},
   "outputs": [
    {
     "data": {
      "text/plain": [
       "<matplotlib.text.Text at 0x118a12630>"
      ]
     },
     "execution_count": 264,
     "metadata": {},
     "output_type": "execute_result"
    },
    {
     "data": {
      "image/png": "[encoded data removed]",
      "text/plain": [
       "<matplotlib.figure.Figure at 0x1188bada0>"
      ]
     },
     "metadata": {},
     "output_type": "display_data"
    },
    {
     "name": "stdout",
     "output_type": "stream",
     "text": [
      "time: 243 ms\n"
     ]
    }
   ],
   "source": [
    "accuracy_plot = accuracy_results.iloc[0:8,:].plot.line('Alpha', ['Markov', 'Seed'], style='-o')\n",
    "accuracy_plot.set_ylabel(\"Accuracy\")\n",
    "accuracy_plot.set_title(\"Markov Method vs Seeding for NBA Playoffs History\")"
   ]
  },
  {
   "cell_type": "code",
   "execution_count": null,
   "metadata": {},
   "outputs": [],
   "source": []
  },
  {
   "cell_type": "code",
   "execution_count": null,
   "metadata": {},
   "outputs": [],
   "source": []
  },
  {
   "cell_type": "code",
   "execution_count": null,
   "metadata": {},
   "outputs": [],
   "source": []
  },
  {
   "cell_type": "code",
   "execution_count": null,
   "metadata": {},
   "outputs": [],
   "source": [
    "# Get and save all data"
   ]
  },
  {
   "cell_type": "code",
   "execution_count": 17,
   "metadata": {},
   "outputs": [
    {
     "name": "stdout",
     "output_type": "stream",
     "text": [
      "time: 9min 22s\n"
     ]
    }
   ],
   "source": [
    "regular_season_data = get_regular_season_results(1977, 2018)"
   ]
  },
  {
   "cell_type": "code",
   "execution_count": 107,
   "metadata": {},
   "outputs": [
    {
     "name": "stdout",
     "output_type": "stream",
     "text": [
      "time: 1min 17s\n"
     ]
    }
   ],
   "source": [
    "playoff_data = get_playoff_results(1977, 2017)"
   ]
  },
  {
   "cell_type": "code",
   "execution_count": 66,
   "metadata": {},
   "outputs": [
    {
     "name": "stdout",
     "output_type": "stream",
     "text": [
      "time: 2min 8s\n"
     ]
    }
   ],
   "source": [
    "standings_data = get_standings(1977, 2017)"
   ]
  },
  {
   "cell_type": "code",
   "execution_count": 119,
   "metadata": {},
   "outputs": [
    {
     "name": "stdout",
     "output_type": "stream",
     "text": [
      "time: 17.6 ms\n"
     ]
    }
   ],
   "source": [
    "for year,info in regular_season_data.items():\n",
    "    info.to_csv('/Users/JasonKatz/Desktop/NBA_Data/Regular_Season/' + str(year) + '.csv')"
   ]
  },
  {
   "cell_type": "code",
   "execution_count": 108,
   "metadata": {},
   "outputs": [
    {
     "name": "stdout",
     "output_type": "stream",
     "text": [
      "time: 77.1 ms\n"
     ]
    }
   ],
   "source": [
    "for year,info in playoff_data.items():\n",
    "    info.to_csv('/Users/JasonKatz/Desktop/NBA_Data/Playoffs/' + str(year) + '.csv')"
   ]
  },
  {
   "cell_type": "code",
   "execution_count": 67,
   "metadata": {},
   "outputs": [
    {
     "name": "stdout",
     "output_type": "stream",
     "text": [
      "time: 10.5 ms\n"
     ]
    }
   ],
   "source": [
    "with open('/Users/JasonKatz/Desktop/NBA_Data/standings.json', 'w') as file:\n",
    "    json.dump(standings_data, file)"
   ]
  },
  {
   "cell_type": "code",
   "execution_count": null,
   "metadata": {},
   "outputs": [],
   "source": []
  },
  {
   "cell_type": "code",
   "execution_count": null,
   "metadata": {},
   "outputs": [],
   "source": []
  },
  {
   "cell_type": "code",
   "execution_count": null,
   "metadata": {},
   "outputs": [],
   "source": [
    "# Scrap code to generate figures"
   ]
  },
  {
   "cell_type": "code",
   "execution_count": 26,
   "metadata": {},
   "outputs": [
    {
     "name": "stdout",
     "output_type": "stream",
     "text": [
      "time: 1.48 s\n"
     ]
    }
   ],
   "source": [
    "alpha=0\n",
    "teams = list(np.sort(list(set(regular_season_data['2017']['Home/Neutral']))))\n",
    "voting_matrix = pd.DataFrame(0, columns=teams, index=teams)\n",
    "for idx,row in regular_season_data['2017'].iterrows():\n",
    "    winning_team, losing_team = game_result(row)\n",
    "    if alpha == 0:\n",
    "        voting_matrix.loc[winning_team, losing_team] += alpha\n",
    "        voting_matrix.loc[losing_team, winning_team] += 1\n",
    "    else:\n",
    "        voting_matrix.loc[winning_team, losing_team] += 1\n",
    "        voting_matrix.loc[losing_team, winning_team] += alpha\n",
    "voting_matrix = voting_matrix.div(voting_matrix.sum(axis=1), axis=0)\n",
    "voting_matrix = np.matrix(voting_matrix)\n",
    "S, U = eig(voting_matrix.T)\n",
    "stationary = np.array(U[:, np.where(np.abs(S - 1.) < 1e-8)[0][0]].flat)\n",
    "stationary = stationary / np.sum(stationary)\n",
    "ratings_order = np.argsort(stationary)\n",
    "rankings = list(reversed([teams[rat] for rat in ratings_order]))"
   ]
  },
  {
   "cell_type": "code",
   "execution_count": 69,
   "metadata": {},
   "outputs": [
    {
     "name": "stdout",
     "output_type": "stream",
     "text": [
      "time: 2.3 ms\n"
     ]
    }
   ],
   "source": [
    "ratings = [round(np.real(rat).item(),4) for rat in list(reversed(np.sort(stationary)))]"
   ]
  },
  {
   "cell_type": "code",
   "execution_count": 87,
   "metadata": {},
   "outputs": [
    {
     "name": "stdout",
     "output_type": "stream",
     "text": [
      "time: 25.7 ms\n"
     ]
    }
   ],
   "source": [
    "team_ratings = pd.DataFrame()\n",
    "for idx,rating in enumerate(ratings):\n",
    "    team_ratings[idx+1] = [rankings[idx], rating]\n",
    "team_ratings.index = ['Team', 'Rating']"
   ]
  },
  {
   "cell_type": "code",
   "execution_count": 88,
   "metadata": {},
   "outputs": [
    {
     "data": {
      "text/html": [
       "<div>\n",
       "<table border=\"1\" class=\"dataframe\">\n",
       "  <thead>\n",
       "    <tr style=\"text-align: right;\">\n",
       "      <th></th>\n",
       "      <th>1</th>\n",
       "      <th>2</th>\n",
       "      <th>3</th>\n",
       "      <th>4</th>\n",
       "      <th>5</th>\n",
       "      <th>6</th>\n",
       "      <th>7</th>\n",
       "      <th>8</th>\n",
       "      <th>9</th>\n",
       "      <th>10</th>\n",
       "      <th>...</th>\n",
       "      <th>21</th>\n",
       "      <th>22</th>\n",
       "      <th>23</th>\n",
       "      <th>24</th>\n",
       "      <th>25</th>\n",
       "      <th>26</th>\n",
       "      <th>27</th>\n",
       "      <th>28</th>\n",
       "      <th>29</th>\n",
       "      <th>30</th>\n",
       "    </tr>\n",
       "  </thead>\n",
       "  <tbody>\n",
       "    <tr>\n",
       "      <th>Team</th>\n",
       "      <td>Golden State Warriors</td>\n",
       "      <td>San Antonio Spurs</td>\n",
       "      <td>Los Angeles Clippers</td>\n",
       "      <td>Houston Rockets</td>\n",
       "      <td>Memphis Grizzlies</td>\n",
       "      <td>Utah Jazz</td>\n",
       "      <td>Boston Celtics</td>\n",
       "      <td>Cleveland Cavaliers</td>\n",
       "      <td>Oklahoma City Thunder</td>\n",
       "      <td>Toronto Raptors</td>\n",
       "      <td>...</td>\n",
       "      <td>Dallas Mavericks</td>\n",
       "      <td>Sacramento Kings</td>\n",
       "      <td>New Orleans Pelicans</td>\n",
       "      <td>Charlotte Hornets</td>\n",
       "      <td>Los Angeles Lakers</td>\n",
       "      <td>Orlando Magic</td>\n",
       "      <td>New York Knicks</td>\n",
       "      <td>Philadelphia 76ers</td>\n",
       "      <td>Phoenix Suns</td>\n",
       "      <td>Brooklyn Nets</td>\n",
       "    </tr>\n",
       "    <tr>\n",
       "      <th>Rating</th>\n",
       "      <td>0.0555</td>\n",
       "      <td>0.0548</td>\n",
       "      <td>0.045</td>\n",
       "      <td>0.044</td>\n",
       "      <td>0.0429</td>\n",
       "      <td>0.0416</td>\n",
       "      <td>0.0405</td>\n",
       "      <td>0.0397</td>\n",
       "      <td>0.039</td>\n",
       "      <td>0.0385</td>\n",
       "      <td>...</td>\n",
       "      <td>0.027</td>\n",
       "      <td>0.0268</td>\n",
       "      <td>0.0259</td>\n",
       "      <td>0.0256</td>\n",
       "      <td>0.024</td>\n",
       "      <td>0.0228</td>\n",
       "      <td>0.0224</td>\n",
       "      <td>0.0196</td>\n",
       "      <td>0.0195</td>\n",
       "      <td>0.0131</td>\n",
       "    </tr>\n",
       "  </tbody>\n",
       "</table>\n",
       "<p>2 rows × 30 columns</p>\n",
       "</div>"
      ],
      "text/plain": [
       "                           1                  2                     3   \\\n",
       "Team    Golden State Warriors  San Antonio Spurs  Los Angeles Clippers   \n",
       "Rating                 0.0555             0.0548                 0.045   \n",
       "\n",
       "                     4                  5          6               7   \\\n",
       "Team    Houston Rockets  Memphis Grizzlies  Utah Jazz  Boston Celtics   \n",
       "Rating            0.044             0.0429     0.0416          0.0405   \n",
       "\n",
       "                         8                      9                10  \\\n",
       "Team    Cleveland Cavaliers  Oklahoma City Thunder  Toronto Raptors   \n",
       "Rating               0.0397                  0.039           0.0385   \n",
       "\n",
       "            ...                      21                22  \\\n",
       "Team        ...        Dallas Mavericks  Sacramento Kings   \n",
       "Rating      ...                   0.027            0.0268   \n",
       "\n",
       "                          23                 24                  25  \\\n",
       "Team    New Orleans Pelicans  Charlotte Hornets  Los Angeles Lakers   \n",
       "Rating                0.0259             0.0256               0.024   \n",
       "\n",
       "                   26               27                  28            29  \\\n",
       "Team    Orlando Magic  New York Knicks  Philadelphia 76ers  Phoenix Suns   \n",
       "Rating         0.0228           0.0224              0.0196        0.0195   \n",
       "\n",
       "                   30  \n",
       "Team    Brooklyn Nets  \n",
       "Rating         0.0131  \n",
       "\n",
       "[2 rows x 30 columns]"
      ]
     },
     "execution_count": 88,
     "metadata": {},
     "output_type": "execute_result"
    },
    {
     "name": "stdout",
     "output_type": "stream",
     "text": [
      "time: 42 ms\n"
     ]
    }
   ],
   "source": [
    "team_ratings"
   ]
  },
  {
   "cell_type": "code",
   "execution_count": null,
   "metadata": {},
   "outputs": [],
   "source": []
  }
 ],
 "metadata": {
  "kernelspec": {
   "display_name": "Python 3",
   "language": "python",
   "name": "python3"
  },
  "language_info": {
   "codemirror_mode": {
    "name": "ipython",
    "version": 3
   },
   "file_extension": ".py",
   "mimetype": "text/x-python",
   "name": "python",
   "nbconvert_exporter": "python",
   "pygments_lexer": "ipython3",
   "version": "3.6.0"
  }
 },
 "nbformat": 4,
 "nbformat_minor": 2
}
